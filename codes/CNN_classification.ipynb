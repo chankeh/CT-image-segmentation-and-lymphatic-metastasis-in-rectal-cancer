{
 "cells": [
  {
   "cell_type": "code",
   "execution_count": 2,
   "metadata": {},
   "outputs": [],
   "source": [
    "import numpy as np\n",
    "from sklearn import svm\n",
    "import random\n",
    "import tensorflow as tf\n",
    "from sklearn import preprocessing\n",
    "import skimage.io as io\n",
    "import numpy as np\n",
    "import matplotlib.pyplot as plt\n",
    "import matplotlib.image as mping\n",
    "import os\n",
    "from PIL import Image\n",
    "import tensorflow as tf\n",
    "import keras\n",
    "from keras import backend as k\n",
    "from keras.datasets import mnist\n",
    "from keras.models import Sequential\n",
    "from keras.layers import Conv2D,MaxPooling2D,Dropout,Flatten,Dense,Conv2DTranspose,merge\n",
    "from skimage import morphology"
   ]
  },
  {
   "cell_type": "code",
   "execution_count": 3,
   "metadata": {},
   "outputs": [],
   "source": [
    "X_train = np.load(\"C:/Users/cassi/Desktop/CT_input_all.npy\")"
   ]
  },
  {
   "cell_type": "code",
   "execution_count": 5,
   "metadata": {},
   "outputs": [],
   "source": [
    "X_train = X_train[:,200:450,150:400]"
   ]
  },
  {
   "cell_type": "code",
   "execution_count": 6,
   "metadata": {},
   "outputs": [
    {
     "data": {
      "text/plain": [
       "(2847, 250, 250)"
      ]
     },
     "execution_count": 6,
     "metadata": {},
     "output_type": "execute_result"
    }
   ],
   "source": [
    "X_train.shape"
   ]
  },
  {
   "cell_type": "code",
   "execution_count": 7,
   "metadata": {},
   "outputs": [],
   "source": [
    "mask_train = np.load(\"C:/Users/cassi/Desktop/mask_input_all.npy\")"
   ]
  },
  {
   "cell_type": "code",
   "execution_count": 8,
   "metadata": {},
   "outputs": [],
   "source": [
    "index = np.where(mask_train == 1)[0]"
   ]
  },
  {
   "cell_type": "code",
   "execution_count": 9,
   "metadata": {},
   "outputs": [],
   "source": [
    "index_unique = np.unique(index)"
   ]
  },
  {
   "cell_type": "code",
   "execution_count": 10,
   "metadata": {},
   "outputs": [],
   "source": [
    "y_train = np.zeros(X_train.shape[0])\n",
    "y_train[index_unique] = 1"
   ]
  },
  {
   "cell_type": "code",
   "execution_count": 11,
   "metadata": {},
   "outputs": [],
   "source": [
    "num_category = 2\n",
    "y_train = keras.utils.to_categorical(y_train, num_category)\n",
    "image_number = X_train.shape[0]\n",
    "split = int(0.8*image_number)\n",
    "\n",
    "y_test = y_train[split:image_number,:]\n",
    "y_input = y_train[0:split,:]\n",
    "\n",
    "X_test = X_train[split:image_number,:,:]\n",
    "X_input = X_train[0:split,:,:]\n",
    "img_rows = X_train.shape[1]\n",
    "img_cols = X_train.shape[2]\n",
    "if k.image_data_format() == 'channels_first':\n",
    "    X_input = X_input.reshape(X_input.shape[0], 1, img_rows, img_cols)\n",
    "    X_test = X_test.reshape(X_test.shape[0], 1, img_rows, img_cols)\n",
    "    input_shape = (1, img_rows, img_cols)\n",
    "else:\n",
    "    X_input = X_input.reshape(X_input.shape[0], img_rows, img_cols, 1)\n",
    "    X_test = X_test.reshape(X_test.shape[0], img_rows, img_cols, 1)\n",
    "    input_shape = (img_rows, img_cols, 1)"
   ]
  },
  {
   "cell_type": "code",
   "execution_count": 16,
   "metadata": {},
   "outputs": [],
   "source": [
    "model = Sequential()\n",
    "model.add(Conv2D(32, (3, 3), input_shape=input_shape, padding='same', activation='relu')) \n",
    "model.add(MaxPooling2D(pool_size=(2, 2))) \n",
    " \n",
    "model.add(Conv2D(32, (3, 3), padding='same', activation='relu')) \n",
    "model.add(MaxPooling2D(pool_size=(2, 2))) \n",
    " \n",
    "model.add(Conv2D(64, (3, 3), activation='relu', padding='same')) \n",
    "model.add(MaxPooling2D(pool_size=(2, 2))) \n",
    " \n",
    "model.add(Dropout(0.25)) \n",
    "model.add(Flatten()) \n",
    "model.add(Dense(64, activation='relu')) \n",
    "model.add(Dropout(0.5)) \n",
    "model.add(Dense(2, activation='softmax')) \n",
    "model.compile(loss='binary_crossentropy',\n",
    "              optimizer='Adadelta',\n",
    "              metrics=['acc'])"
   ]
  },
  {
   "cell_type": "code",
   "execution_count": 20,
   "metadata": {},
   "outputs": [
    {
     "data": {
      "text/plain": [
       "(2277, 250, 250, 1)"
      ]
     },
     "execution_count": 20,
     "metadata": {},
     "output_type": "execute_result"
    }
   ],
   "source": [
    "X_input.shape"
   ]
  },
  {
   "cell_type": "code",
   "execution_count": 17,
   "metadata": {},
   "outputs": [
    {
     "name": "stdout",
     "output_type": "stream",
     "text": [
      "WARNING:tensorflow:From C:\\Users\\cassi\\Anaconda3\\lib\\site-packages\\tensorflow\\python\\ops\\math_ops.py:3066: to_int32 (from tensorflow.python.ops.math_ops) is deprecated and will be removed in a future version.\n",
      "Instructions for updating:\n",
      "Use tf.cast instead.\n",
      "Train on 2277 samples, validate on 570 samples\n",
      "Epoch 1/5\n",
      "2277/2277 [==============================] - 222s 98ms/step - loss: 0.7916 - acc: 0.6930 - val_loss: 0.5779 - val_acc: 0.7281\n",
      "Epoch 2/5\n",
      "2277/2277 [==============================] - 225s 99ms/step - loss: 0.5481 - acc: 0.7251 - val_loss: 0.5433 - val_acc: 0.7281\n",
      "Epoch 3/5\n",
      "2277/2277 [==============================] - 213s 94ms/step - loss: 0.4745 - acc: 0.7404 - val_loss: 0.4639 - val_acc: 0.7579\n",
      "Epoch 4/5\n",
      "2277/2277 [==============================] - 207s 91ms/step - loss: 0.4445 - acc: 0.7523 - val_loss: 0.4663 - val_acc: 0.7737\n",
      "Epoch 5/5\n",
      "2277/2277 [==============================] - 209s 92ms/step - loss: 0.4100 - acc: 0.7703 - val_loss: 0.4766 - val_acc: 0.7719\n"
     ]
    }
   ],
   "source": [
    "batch_size = 64\n",
    "num_epoch = 5\n",
    "model_log = model.fit(X_input,y_input,\n",
    "                      batch_size = batch_size,\n",
    "                      epochs = num_epoch,\n",
    "                      verbose = 1,\n",
    "                      validation_data = (X_test,y_test))"
   ]
  },
  {
   "cell_type": "code",
   "execution_count": 18,
   "metadata": {},
   "outputs": [],
   "source": [
    "X_predict = np.load(\"C:/Users/cassi/Desktop/CT_test.npy\")"
   ]
  },
  {
   "cell_type": "code",
   "execution_count": 21,
   "metadata": {},
   "outputs": [],
   "source": [
    "X_predict = X_predict[:,200:450,150:400]"
   ]
  },
  {
   "cell_type": "code",
   "execution_count": 22,
   "metadata": {},
   "outputs": [],
   "source": [
    "X_predict = X_predict.reshape(X_predict.shape[0], img_rows, img_cols, 1)"
   ]
  },
  {
   "cell_type": "code",
   "execution_count": 24,
   "metadata": {},
   "outputs": [],
   "source": [
    "y_predict = model.predict(X_predict)"
   ]
  },
  {
   "cell_type": "code",
   "execution_count": 37,
   "metadata": {},
   "outputs": [],
   "source": [
    "size = y_predict.shape[0]\n",
    "predict = np.zeros(size)\n",
    "for i in range(size):\n",
    "    predict[i] = np.argmax(y_predict[i])"
   ]
  },
  {
   "cell_type": "code",
   "execution_count": 45,
   "metadata": {},
   "outputs": [
    {
     "data": {
      "text/plain": [
       "array([0., 0., 0., 0., 0., 0., 0., 0., 0., 1., 1., 1., 1., 1., 1., 1., 1.,\n",
       "       1., 1., 1., 1., 0., 0., 0., 0., 0., 0., 0., 0., 0., 0., 0., 0., 0.,\n",
       "       0., 0., 0., 0., 0., 1., 1., 1., 1., 1., 1., 1., 1., 1., 1., 1., 1.,\n",
       "       0., 0., 0., 0., 1., 1., 1., 1., 1., 1., 1., 1., 1., 1., 1., 0., 0.,\n",
       "       0., 0., 0., 0., 0., 0., 0., 0., 0., 0., 0., 0., 0., 0., 0., 0., 1.,\n",
       "       1., 1., 1., 1., 1., 1., 1., 1., 1., 1., 1., 1., 1., 1., 1., 0., 0.,\n",
       "       0., 0., 0., 0., 0., 0., 0., 0., 1., 1., 1., 1., 1., 1., 1., 1., 1.,\n",
       "       1., 1., 1., 1., 0., 0., 0., 0., 0., 0., 0., 0., 0., 0., 0., 0., 0.,\n",
       "       0., 0., 0., 0., 0., 0., 1., 1., 1., 1., 1., 1., 1., 1., 1., 1., 0.,\n",
       "       0., 0., 0., 0., 0., 0., 0., 0., 0., 0., 0., 0., 0., 0., 0., 0., 1.,\n",
       "       1., 1., 1., 1., 1., 1., 1., 1., 1., 0., 1., 1.])"
      ]
     },
     "execution_count": 45,
     "metadata": {},
     "output_type": "execute_result"
    }
   ],
   "source": [
    "predict"
   ]
  },
  {
   "cell_type": "code",
   "execution_count": 39,
   "metadata": {},
   "outputs": [],
   "source": [
    "y_truth = np.load(\"C:/Users/cassi/Desktop/mask_test.npy\")"
   ]
  },
  {
   "cell_type": "code",
   "execution_count": 40,
   "metadata": {},
   "outputs": [],
   "source": [
    "y_index = np.unique(np.where(y_truth == 1)[0])"
   ]
  },
  {
   "cell_type": "code",
   "execution_count": 46,
   "metadata": {},
   "outputs": [],
   "source": [
    "y_t_index = np.zeros(size)\n",
    "y_t_index[y_index] = 1"
   ]
  },
  {
   "cell_type": "code",
   "execution_count": 50,
   "metadata": {},
   "outputs": [
    {
     "data": {
      "text/plain": [
       "0.8241758241758241"
      ]
     },
     "execution_count": 50,
     "metadata": {},
     "output_type": "execute_result"
    }
   ],
   "source": [
    "1-sum(abs(predict-y_t_index))/size"
   ]
  },
  {
   "cell_type": "code",
   "execution_count": null,
   "metadata": {},
   "outputs": [],
   "source": []
  }
 ],
 "metadata": {
  "kernelspec": {
   "display_name": "Python 3",
   "language": "python",
   "name": "python3"
  },
  "language_info": {
   "codemirror_mode": {
    "name": "ipython",
    "version": 3
   },
   "file_extension": ".py",
   "mimetype": "text/x-python",
   "name": "python",
   "nbconvert_exporter": "python",
   "pygments_lexer": "ipython3",
   "version": "3.7.1"
  }
 },
 "nbformat": 4,
 "nbformat_minor": 2
}
