{
 "cells": [
  {
   "cell_type": "code",
   "execution_count": 1,
   "metadata": {},
   "outputs": [],
   "source": [
    "import numpy as np\n",
    "from sklearn.svm import SVC"
   ]
  },
  {
   "cell_type": "code",
   "execution_count": 2,
   "metadata": {},
   "outputs": [],
   "source": [
    "X = np.load(\"E:/Teddy/npys/CT_input_all.npy\")\n",
    "mask = np.load(\"E:/Teddy/npys/mask_input_all.npy\")\n",
    "X_withtumor_index = np.unique(np.where(mask == 1)[0])"
   ]
  },
  {
   "cell_type": "code",
   "execution_count": 6,
   "metadata": {},
   "outputs": [],
   "source": [
    "X_input = X[:,200:456,150:406]\n",
    "sample_n = X.shape[0]\n",
    "X_train = X_input.reshape(sample_n,256*256)\n",
    "cat_input = np.zeros(sample_n)\n",
    "cat_input[X_withtumor_index] = 1"
   ]
  },
  {
   "cell_type": "code",
   "execution_count": 7,
   "metadata": {},
   "outputs": [
    {
     "data": {
      "text/plain": [
       "SVC(C=1.0, cache_size=200, class_weight=None, coef0=0.0,\n",
       "  decision_function_shape='ovr', degree=3, gamma='auto', kernel='rbf',\n",
       "  max_iter=-1, probability=False, random_state=None, shrinking=True,\n",
       "  tol=0.001, verbose=False)"
      ]
     },
     "execution_count": 7,
     "metadata": {},
     "output_type": "execute_result"
    }
   ],
   "source": [
    "clf = SVC(gamma = 'auto')\n",
    "clf.fit(X_train,cat_input)"
   ]
  },
  {
   "cell_type": "code",
   "execution_count": 8,
   "metadata": {},
   "outputs": [],
   "source": [
    "X_test = np.load(\"E:/Teddy/npys/CT_test.npy\")\n",
    "cat_test = np.load(\"E:/Teddy/npys/mask_test.npy\")"
   ]
  },
  {
   "cell_type": "code",
   "execution_count": 9,
   "metadata": {},
   "outputs": [],
   "source": [
    "X_test = X_test[:,200:456,150:406]\n",
    "test_n = X_test.shape[0]\n",
    "X_test_input = X_test.reshape(test_n,256*256)\n",
    "cat_truth = np.zeros(test_n)\n",
    "X_withtumor_index = np.unique(np.where(cat_test == 1)[0])\n",
    "cat_truth[X_withtumor_index] = 1"
   ]
  },
  {
   "cell_type": "code",
   "execution_count": 10,
   "metadata": {},
   "outputs": [],
   "source": [
    "cat_predict = clf.predict(X_test_input)"
   ]
  },
  {
   "cell_type": "code",
   "execution_count": 12,
   "metadata": {},
   "outputs": [],
   "source": [
    "count = 0\n",
    "for i in range(test_n):\n",
    "    if cat_truth[i] == cat_predict[i]:\n",
    "        count = count + 1\n",
    "coef = count/test_n"
   ]
  }
 ],
 "metadata": {
  "kernelspec": {
   "display_name": "Python 3",
   "language": "python",
   "name": "python3"
  },
  "language_info": {
   "codemirror_mode": {
    "name": "ipython",
    "version": 3
   },
   "file_extension": ".py",
   "mimetype": "text/x-python",
   "name": "python",
   "nbconvert_exporter": "python",
   "pygments_lexer": "ipython3",
   "version": "3.7.1"
  }
 },
 "nbformat": 4,
 "nbformat_minor": 2
}
