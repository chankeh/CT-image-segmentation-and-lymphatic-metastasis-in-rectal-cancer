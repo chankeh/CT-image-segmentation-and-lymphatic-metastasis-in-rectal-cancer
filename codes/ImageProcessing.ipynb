{
 "cells": [
  {
   "cell_type": "code",
   "execution_count": null,
   "metadata": {},
   "outputs": [],
   "source": [
    "import SimpleITK as sitk\n",
    "import skimage.io as io\n",
    "import numpy as np\n",
    "import matplotlib.pyplot as plt\n",
    "import matplotlib.image as mping\n",
    "import os\n",
    "from PIL import Image\n",
    "import tensorflow as tf\n",
    "import keras\n",
    "from keras import backend as k\n",
    "from keras.datasets import mnist\n",
    "from keras.models import Sequential\n",
    "from keras.layers import Conv2D,MaxPooling2D,Dropout,Flatten,Dense,Conv2DTranspose,merge\n",
    "from skimage import morphology\n",
    "from skimage import measure\n",
    "from sklearn.cluster import KMeans\n",
    "from skimage.transform import resize\n",
    "from keras import Input\n",
    "import dicom\n",
    "import pylab"
   ]
  },
  {
   "cell_type": "code",
   "execution_count": null,
   "metadata": {},
   "outputs": [],
   "source": [
    "def dice_coef(y_true, y_pred):\n",
    "    y_true_f = k.flatten(y_true)\n",
    "    y_pred_f = k.flatten(y_pred)\n",
    "    intersection = k.sum(y_true_f * y_pred_f)\n",
    "    return (2. * intersection ) / (k.sum(y_true_f) + k.sum(y_pred_f) )\n",
    "\n",
    "\n",
    "def dice_coef_loss(y_true, y_pred):\n",
    "    return -dice_coef(y_true, y_pred)"
   ]
  },
  {
   "cell_type": "code",
   "execution_count": null,
   "metadata": {},
   "outputs": [],
   "source": [
    "def imcut(X):\n",
    "    a = np.where(X>=0.5)\n",
    "    n = a[0].shape[0]\n",
    "    index1 = a[0][0]\n",
    "    index2 = a[0][n-1]\n",
    "    return index1,index2"
   ]
  },
  {
   "cell_type": "code",
   "execution_count": null,
   "metadata": {},
   "outputs": [],
   "source": [
    "def improcess(X,y,patchsize,patchnum):\n",
    "    s = patchsize\n",
    "    index1,index2 = imcut(X[0])\n",
    "    len = X.shape[0]*patchnum\n",
    "    X_train = np.zeros([len,s,s])\n",
    "    y_train = np.zeros([len,1])\n",
    "    ncol = X[0].shape[1]\n",
    "    for i in range(0,X.shape[0]):\n",
    "        X_slice = X[i]\n",
    "        #choosing \n",
    "        indexrow = np.random.randint( int(index1+s/2)+1 , int(index2-s/2)-1, size = patchnum ) \n",
    "        indexcol = np.random.randint( int(s/2)+1 , int(ncol-s/2)-1 , size = patchnum )\n",
    "        for j in range(0,patchnum):\n",
    "            X_train[j+i*patchnum,:,:]=X_slice[int(indexrow[j]-s/2):int(indexrow[j]+s/2),int(indexcol[j]-s/2):int(indexcol[j]+s/2)]\n",
    "            y_train[j+i*patchnum,:] = y[i,indexrow[j],indexcol[j]]\n",
    "    \n",
    "    return index1,index2,X_train,y_train"
   ]
  },
  {
   "cell_type": "code",
   "execution_count": null,
   "metadata": {},
   "outputs": [],
   "source": [
    "def test_improcess(X,y,patchsize,patchnum):\n",
    "    s = patchsize\n",
    "    index1 = 200\n",
    "    index2 = 450\n",
    "    index3 = 150\n",
    "    index4 = 400\n",
    "    len = X.shape[0]*patchnum\n",
    "    X_train = np.zeros([len,s,s])\n",
    "    y_train = np.zeros([len,1])\n",
    "    ncol = X[0].shape[1]\n",
    "    for i in range(0,X.shape[0]):\n",
    "        X_slice = X[i]\n",
    "        #choosing \n",
    "        indexrow = np.random.randint( int(index1+s/2)+1 , int(index2-s/2)-1, size = patchnum ) \n",
    "        indexcol = np.random.randint( int(index3+s/2)+1 , int(index4-s/2)-1 , size = patchnum )\n",
    "        for j in range(0,patchnum):\n",
    "            X_train[j+i*patchnum,:,:]=X_slice[int(indexrow[j]-s/2):int(indexrow[j]+s/2),int(indexcol[j]-s/2):int(indexcol[j]+s/2)]\n",
    "            y_train[j+i*patchnum,:] = y[i,indexrow[j],indexcol[j]]\n",
    "    \n",
    "    return index1,index2,X_train,y_train"
   ]
  },
  {
   "cell_type": "code",
   "execution_count": null,
   "metadata": {},
   "outputs": [],
   "source": [
    "def get_subdirectory(path):\n",
    "    dirList = []\n",
    "    files = os.listdir(path)\n",
    "    for f in files:\n",
    "        if(os.path.isdir(path + '/' + f)):\n",
    "            if(f[0] == '.'):\n",
    "                pass #排除隐藏文件夹\n",
    "            else:\n",
    "                dirList.append(path+ '/' + f)\n",
    "    return dirList\n",
    "\n",
    "def get_ap(path):\n",
    "    img_pathList = []\n",
    "    name = 'arterial phase'\n",
    "    subpath = get_subdirectory(path)\n",
    "    pathnumber = len(subpath)\n",
    "    for i in range(pathnumber):\n",
    "        img_pathList.append(subpath[i] + '/' + name)\n",
    "    return img_pathList"
   ]
  },
  {
   "cell_type": "code",
   "execution_count": null,
   "metadata": {},
   "outputs": [],
   "source": [
    "def labelcluster(X,y):\n",
    "    middle = X[:,230:430,189:318]\n",
    "    kmeans = KMeans(n_clusters = 4).fit(np.reshape(middle,[np.prod(middle.shape),1]))\n",
    "    centers = sorted(kmeans.cluster_centers_.flatten())\n",
    "    index1 = np.where(X < centers[0])\n",
    "    index2 = np.where((X >= centers[0])&(X < centers[1]))\n",
    "    index3 = np.where((X >= centers[1])&(X < centers[2]))\n",
    "    index4 = np.where((X >= centers[2])&(X < centers[3]))\n",
    "    index5 = np.where(X >= centers[3])\n",
    "    index0 = np.where(y == 1)#1代表白色\n",
    "    y[index1] = 1\n",
    "    y[index2] = 2\n",
    "    y[index3] = 3\n",
    "    y[index4] = 4\n",
    "    y[index5] = 5\n",
    "    y[index0] = 0\n",
    "    return y"
   ]
  },
  {
   "cell_type": "code",
   "execution_count": null,
   "metadata": {},
   "outputs": [],
   "source": [
    "def get_image(path):\n",
    "    return [os.path.join(path,f) for f in os.listdir(path) if f.endswith('.png')]\n",
    "\n",
    "#读取当前文件夹下的所有DICOM文件，并以数组形式存储在image_array中，\n",
    "def Xyread(path):\n",
    "    reader = sitk.ImageSeriesReader()\n",
    "    dicom_names = reader.GetGDCMSeriesFileNames(path)\n",
    "    reader.SetFileNames(dicom_names)\n",
    "    image = reader.Execute()\n",
    "    image_array = sitk.GetArrayFromImage(image)\n",
    "    X = image_array\n",
    "    mean = np.mean(X)\n",
    "    std = np.std(X)\n",
    "    X = X-mean\n",
    "    X = X/std\n",
    "    Xshape = X.shape\n",
    "    \n",
    "    c = get_image(path)\n",
    "    d = len(c)\n",
    "    \n",
    "    mask = np.empty((d,512,512))\n",
    "    i = 0\n",
    "    while(d>0):\n",
    "        img = Image.open(c[d-1])\n",
    "        img_ndarray = np.asarray(img)/255\n",
    "        mask[i] = img_ndarray\n",
    "        d = d-1\n",
    "        i = i+1\n",
    "    return X,mask"
   ]
  },
  {
   "cell_type": "code",
   "execution_count": null,
   "metadata": {},
   "outputs": [],
   "source": [
    "def path_getandcount(path,number_total = 0):\n",
    "    path_total = get_ap(path)\n",
    "    path_number = len(path_total)\n",
    "    return path_total"
   ]
  },
  {
   "cell_type": "code",
   "execution_count": null,
   "metadata": {},
   "outputs": [],
   "source": [
    "path = r\"E:/Bdata/dataset\"\n",
    "path_total= get_ap(path)\n"
   ]
  },
  {
   "cell_type": "code",
   "execution_count": null,
   "metadata": {},
   "outputs": [],
   "source": [
    "X1,mask1 = Xyread(path_total[0])\n",
    "mask1 = labelcluster(X1,mask1)\n",
    "#mask18 = mask1[8]\n",
    "#X18 = X1[8]\n",
    "#middle = X[:,230:430,189:318]\n",
    "#kmeans = KMeans(n_clusters = 4).fit(np.reshape(middle,[np.prod(middle.shape),1]))\n",
    "#centers = sorted(kmeans.cluster_centers_.flatten())\n",
    "#index1 = np.where(X < centers[0])\n",
    "#index2 = np.where((X > centers[0])&(X < centers[1]))\n",
    "#index3 = np.where((X > centers[1])&(X < centers[2]))\n",
    "#index4 = np.where(X > centers[3])\n",
    "#index0 = np.where(y == 1)#1代表白色\n",
    "#y[index1] = 1\n",
    "#y[index2] = 2\n",
    "#y[index3] = 3\n",
    "#y[index4] = 4\n",
    "#y[index0] = 0"
   ]
  },
  {
   "cell_type": "code",
   "execution_count": null,
   "metadata": {},
   "outputs": [],
   "source": [
    "np.where(mask_show2 == 1)"
   ]
  },
  {
   "cell_type": "code",
   "execution_count": null,
   "metadata": {},
   "outputs": [],
   "source": [
    "X,mask = Xyread(path_total[0])\n",
    "#mask = labelcluster(X,mask)\n",
    "for i in range(1,3):\n",
    "    X_temp,mask_temp = Xyread(path_total[i])\n",
    "#    mask_temp = labelcluster(X_temp,mask_temp)\n",
    "    X = np.append(X,X_temp,axis = 0)\n",
    "    mask = np.append(mask,mask_temp,axis = 0)\n"
   ]
  },
  {
   "cell_type": "code",
   "execution_count": null,
   "metadata": {},
   "outputs": [],
   "source": [
    "np.save(\"C:/Users/cassi/Desktop/mask_3.npy\",mask)"
   ]
  },
  {
   "cell_type": "code",
   "execution_count": null,
   "metadata": {},
   "outputs": [],
   "source": [
    "X1,mask1 = Xyread(path_total[20])\n",
    "#mask = labelcluster(X,mask)\n",
    "for i in range(21,40):\n",
    "    X_temp,mask_temp = Xyread(path_total[i])\n",
    "#    mask_temp = labelcluster(X_temp,mask_temp)\n",
    "    X1 = np.append(X1,X_temp,axis = 0)\n",
    "    mask1 = np.append(mask1,mask_temp,axis = 0)"
   ]
  },
  {
   "cell_type": "code",
   "execution_count": null,
   "metadata": {},
   "outputs": [],
   "source": [
    "X2,mask2 = Xyread(path_total[40])\n",
    "#mask = labelcluster(X,mask)\n",
    "for i in range(41,60):\n",
    "    X_temp,mask_temp = Xyread(path_total[i])\n",
    "#    mask_temp = labelcluster(X_temp,mask_temp)\n",
    "    X2 = np.append(X2,X_temp,axis = 0)\n",
    "    mask2 = np.append(mask2,mask_temp,axis = 0)"
   ]
  },
  {
   "cell_type": "code",
   "execution_count": null,
   "metadata": {},
   "outputs": [],
   "source": [
    "X3,mask3 = Xyread(path_total[60])\n",
    "#mask = labelcluster(X,mask)\n",
    "for i in range(61,80):\n",
    "    X_temp,mask_temp = Xyread(path_total[i])\n",
    "#    mask_temp = labelcluster(X_temp,mask_temp)\n",
    "    X3 = np.append(X3,X_temp,axis = 0)\n",
    "    mask3 = np.append(mask3,mask_temp,axis = 0)"
   ]
  },
  {
   "cell_type": "code",
   "execution_count": null,
   "metadata": {},
   "outputs": [],
   "source": [
    "X4,mask4 = Xyread(path_total[80])\n",
    "#mask = labelcluster(X,mask)\n",
    "for i in range(81,100):\n",
    "    X_temp,mask_temp = Xyread(path_total[i])\n",
    "#    mask_temp = labelcluster(X_temp,mask_temp)\n",
    "    X1 = np.append(X1,X_temp,axis = 0)\n",
    "    mask1 = np.append(mask1,mask_temp,axis = 0)"
   ]
  },
  {
   "cell_type": "code",
   "execution_count": null,
   "metadata": {},
   "outputs": [],
   "source": [
    "X5,mask5 = Xyread(path_total[100])\n",
    "#mask = labelcluster(X,mask)\n",
    "for i in range(101,107):\n",
    "    X_temp,mask_temp = Xyread(path_total[i])\n",
    "#    mask_temp = labelcluster(X_temp,mask_temp)\n",
    "    X5 = np.append(X5,X_temp,axis = 0)\n",
    "    mask5 = np.append(mask5,mask_temp,axis = 0)"
   ]
  },
  {
   "cell_type": "code",
   "execution_count": null,
   "metadata": {},
   "outputs": [],
   "source": [
    "index=np.unique(np.where(mask==1)[0])\n",
    "X_bw = X[index,:,:]\n",
    "mask_bw = mask[index,:,:]"
   ]
  },
  {
   "cell_type": "code",
   "execution_count": null,
   "metadata": {},
   "outputs": [],
   "source": [
    "index1=np.unique(np.where(mask1==1)[0])\n",
    "X_bw1 = X1[index1,:,:]\n",
    "mask1_bw = mask1[index1,:,:]\n",
    "index2=np.unique(np.where(mask2==1)[0])\n",
    "X_bw2 = X2[index2,:,:]\n",
    "mask2_bw = mask2[index2,:,:]\n",
    "index3=np.unique(np.where(mask3==1)[0])\n",
    "X_bw3 = X3[index3,:,:]\n",
    "mask3_bw = mask3[index3,:,:]\n",
    "index4=np.unique(np.where(mask4==1)[0])\n",
    "X_bw4 = X4[index4,:,:]\n",
    "mask4_bw = mask4[index4,:,:]"
   ]
  },
  {
   "cell_type": "code",
   "execution_count": null,
   "metadata": {},
   "outputs": [],
   "source": [
    "X_input_bw = np.concatenate((X_bw,X_bw1,X_bw2,X_bw3,X_bw4),axis = 0)"
   ]
  },
  {
   "cell_type": "code",
   "execution_count": null,
   "metadata": {},
   "outputs": [],
   "source": [
    "np.save(\"C:/Users/cassi/Desktop/X.npy\",X)\n",
    "np.save(\"C:/Users/cassi/Desktop/X1.npy\",X1)\n",
    "np.save(\"C:/Users/cassi/Desktop/X2.npy\",X2)\n",
    "np.save(\"C:/Users/cassi/Desktop/X3.npy\",X3)"
   ]
  },
  {
   "cell_type": "code",
   "execution_count": null,
   "metadata": {},
   "outputs": [],
   "source": [
    "np.save(\"C:/Users/cassi/Desktop/X4.npy\",X4)\n",
    "np.save(\"C:/Users/cassi/Desktop/X5.npy\",X5)\n",
    "np.save(\"C:/Users/cassi/Desktop/mask.npy\",mask)\n",
    "np.save(\"C:/Users/cassi/Desktop/mask1.npy\",mask1)\n",
    "np.save(\"C:/Users/cassi/Desktop/mask2.npy\",mask2)\n",
    "np.save(\"C:/Users/cassi/Desktop/mask3.npy\",mask3)\n",
    "np.save(\"C:/Users/cassi/Desktop/mask4.npy\",mask4)\n",
    "np.save(\"C:/Users/cassi/Desktop/mask5.npy\",mask5)"
   ]
  },
  {
   "cell_type": "code",
   "execution_count": null,
   "metadata": {},
   "outputs": [],
   "source": [
    "mask = np.load('C:/Users/cassi/Desktop/mask.npy')"
   ]
  },
  {
   "cell_type": "code",
   "execution_count": null,
   "metadata": {},
   "outputs": [],
   "source": [
    "mask_input = np.concatenate((mask,mask1,mask2,mask3,mask4),axis = 0)"
   ]
  },
  {
   "cell_type": "code",
   "execution_count": null,
   "metadata": {},
   "outputs": [],
   "source": [
    "np.save('C:/Users/cassi/Desktop/Image_input_all.npy',X_input)"
   ]
  },
  {
   "cell_type": "code",
   "execution_count": null,
   "metadata": {},
   "outputs": [],
   "source": [
    "index1,index2,X_output,y_output = improcess(X,mask,21,500)\n",
    "num_category = 2\n",
    "y_output = keras.utils.to_categorical(y_output, num_category)\n",
    "#index_mask =  np.where(y_output[:,0] == 1)\n",
    "#index_mask\n",
    "#index_tumor = index_mask[0]\n",
    "#X_output1 = X_output[index_tumor]\n",
    "#y_output1 = y_output[index_tumor]\n",
    "\n",
    "image_number = X_output.shape[0]\n",
    "split = int(0.8*image_number)\n",
    "\n",
    "y_test = y_output[split:image_number,:]\n",
    "y_train = y_output[0:split,:]\n"
   ]
  },
  {
   "cell_type": "code",
   "execution_count": null,
   "metadata": {},
   "outputs": [],
   "source": [
    "X_output.shape"
   ]
  },
  {
   "cell_type": "code",
   "execution_count": null,
   "metadata": {},
   "outputs": [],
   "source": [
    "X_test = X_output[split:image_number,:,:]\n",
    "X_train = X_output[0:split,:,:]\n",
    "img_rows = X_train.shape[1]\n",
    "img_cols = X_train.shape[2]\n",
    "if k.image_data_format() == 'channels_first':\n",
    "    X_train = X_train.reshape(X_train.shape[0], 1, img_rows, img_cols)\n",
    "    X_test = X_test.reshape(X_test.shape[0], 1, img_rows, img_cols)\n",
    "    input_shape = (1, img_rows, img_cols)\n",
    "else:\n",
    "    X_train = X_train.reshape(X_train.shape[0], img_rows, img_cols, 1)\n",
    "    X_test = X_test.reshape(X_test.shape[0], img_rows, img_cols, 1)\n",
    "    input_shape = (img_rows, img_cols, 1)\n",
    "#more reshaping\n",
    "#X_train.shape\n",
    "#X_train = X_train.astype('float64')\n",
    "#X_test = X_test.astype('float64')\n",
    "#X_train = X_train - X_train.min()\n",
    "#X_train = X_train/X_train.max()\n",
    "#X_test = X_test - X_test.min()\n",
    "#X_test = X_test/X_test.max()\n",
    "print('X_train shape:', X_train.shape,X_test.shape,y_train.shape,y_test.shape) #X_train shape: (60000, 28, 28, 1)\n"
   ]
  },
  {
   "cell_type": "code",
   "execution_count": null,
   "metadata": {},
   "outputs": [],
   "source": [
    "model = Sequential()\n",
    "model.add(Conv2D(32, kernel_size=(3, 3),\n",
    "                 activation='relu',\n",
    "                 input_shape=input_shape))\n",
    "model.add(Conv2D(64, (3, 3), activation='relu'))\n",
    "model.add(MaxPooling2D(pool_size=(2, 2)))\n",
    "model.add(Dropout(0.25))\n",
    "model.add(Flatten())\n",
    "model.add(Dense(128, activation='relu'))\n",
    "model.add(Dropout(0.5))\n",
    "model.add(Dense(num_category, activation='softmax'))\n",
    "model.compile(loss='binary_crossentropy',\n",
    "              optimizer='Adadelta',\n",
    "              metrics=[dice_coef])"
   ]
  },
  {
   "cell_type": "code",
   "execution_count": null,
   "metadata": {},
   "outputs": [],
   "source": [
    "batch_size = 128\n",
    "num_epoch = 6\n",
    "model_log = model.fit(X_train, y_train,\n",
    "          batch_size=batch_size,\n",
    "          epochs=num_epoch,\n",
    "          verbose=1,\n",
    "          validation_data=(X_test, y_test))"
   ]
  },
  {
   "cell_type": "code",
   "execution_count": null,
   "metadata": {},
   "outputs": [],
   "source": [
    "model.save(\"C:/Users/cassi/Desktop/CNNmodel_15_3_21_500.h5\")"
   ]
  },
  {
   "cell_type": "code",
   "execution_count": null,
   "metadata": {},
   "outputs": [],
   "source": [
    "from keras.models import load_model\n",
    "model1 = load_model(\"C:/Users/cassi/Desktop/CNNmodel_6_3_21_500.h5\")"
   ]
  },
  {
   "cell_type": "code",
   "execution_count": null,
   "metadata": {},
   "outputs": [],
   "source": [
    "path1 = \"C:/Users/cassi/Desktop/10011.dcm\"\n",
    "image_predict = sitk.ReadImage(path1)\n",
    "X_predict_array = sitk.GetArrayFromImage(image_predict)[0]\n",
    "patchsize = 21\n",
    "\n",
    "mean = np.mean(X_predict_array)\n",
    "std = np.std(X_predict_array)\n",
    "X_predict_array = X_predict_array-mean\n",
    "X_predict_array = X_predict_array/std\n",
    "middle = X_predict_array[230:430,189:318]\n",
    "kmeans = KMeans(n_clusters = 4).fit(np.reshape(middle,[np.prod(middle.shape),1]))\n",
    "centers = sorted(kmeans.cluster_centers_.flatten())\n",
    "index1 = np.where(X_predict_array < centers[0])\n",
    "index2 = np.where((X_predict_array > centers[0])&(X_predict_array < centers[1]))\n",
    "index3 = np.where((X_predict_array > centers[1])&(X_predict_array < centers[2]))\n",
    "index4 = np.where(X_predict_array > centers[3])\n",
    "\n",
    "#X_predict_index = imcut(X_predict_array)\n",
    "#w = int(patchsize/2)\n",
    "#X_predict = np.zeros([(X_predict_index[1]-X_predict_index[0])*(512-patchsize+1),patchsize,patchsize,1])\n",
    "#index = 0\n",
    "#for i in range(X_predict_index[0],min(X_predict_index[1],512-w)):\n",
    "#    for j in range(w,512-w):\n",
    "#        X_predict[index,:,:,0] = X_predict_array[i-w:i+w+1,j-w:j+w+1]\n",
    "#        index = index+1\n",
    "\n",
    "\n",
    "#i = 349\n",
    "#modelpredict = np.zeros([512,512,2])\n",
    "#for i in range(337,380):\n",
    "#    for j in range(218,254):\n",
    "#        modelpredict[i,j,:] = model.predict(X_predict_array[0,i-w:i+w+1,j-w:j+w+1].reshape(1,13,13,1))\n",
    "\n",
    "#i,j=10,10\n",
    "#model.predict(X_predict_array[0,i-w:i+w+1,j-w:j+w+1].reshape(1,13,13,1))"
   ]
  },
  {
   "cell_type": "code",
   "execution_count": null,
   "metadata": {},
   "outputs": [],
   "source": [
    "centers"
   ]
  },
  {
   "cell_type": "code",
   "execution_count": null,
   "metadata": {},
   "outputs": [],
   "source": [
    "X_predict_show = np.zeros([512,512])\n",
    "X_predict_show[index4] = 1\n",
    "plt.imshow(X_predict_show,'gray')\n",
    "plt.show()"
   ]
  },
  {
   "cell_type": "code",
   "execution_count": null,
   "metadata": {},
   "outputs": [],
   "source": [
    "X_predict_index = [230,430,189,318]\n",
    "w = int(patchsize/2)\n",
    "X_predict = np.zeros([(X_predict_index[1]-X_predict_index[0])*(X_predict_index[3]-X_predict_index[2]),patchsize,patchsize,1])\n",
    "index = 0\n",
    "for i in range(X_predict_index[0],min(X_predict_index[1],512-w)):\n",
    "    for j in range(X_predict_index[2],X_predict_index[3]):\n",
    "        X_predict[index,:,:,0] = X_predict_array[i-w:i+w+1,j-w:j+w+1]\n",
    "        index = index+1"
   ]
  },
  {
   "cell_type": "code",
   "execution_count": null,
   "metadata": {},
   "outputs": [],
   "source": [
    "y_predict = model.predict(X_predict)"
   ]
  },
  {
   "cell_type": "code",
   "execution_count": null,
   "metadata": {},
   "outputs": [],
   "source": [
    "y_predict.shape"
   ]
  },
  {
   "cell_type": "code",
   "execution_count": null,
   "metadata": {},
   "outputs": [],
   "source": [
    "y_pi = y_predict[:,1].reshape(X_predict_index[1]-X_predict_index[0],512-patchsize+1)#reshape按行重排\n",
    "#y_pi2 = y_predict[:,2].reshape(X_predict_index[1]-X_predict_index[0],512-patchsize+1)\n",
    "#y_pi = y_predict[:,0].reshape(X_predict_index[1]-X_predict_index[0],X_predict_index[3]-X_predict_index[2])\n",
    "\n",
    "y_po = np.zeros([X_predict_index[1]-X_predict_index[0],512-patchsize+1])\n",
    "y_show = np.zeros([512,512])\n",
    "output_index = np.where(y_pi == y_pi.max() )\n",
    "#output_index2 = np.where(y_pi2 > 0 )\n",
    "y_po[output_index] = 1\n",
    "#y_po[output_index2] = 2\n",
    "y_show[X_predict_index[0]:X_predict_index[1],int(patchsize/2):512-int(patchsize/2)] = y_po\n",
    "\n"
   ]
  }
 ],
 "metadata": {
  "kernelspec": {
   "display_name": "Python 3",
   "language": "python",
   "name": "python3"
  },
  "language_info": {
   "codemirror_mode": {
    "name": "ipython",
    "version": 3
   },
   "file_extension": ".py",
   "mimetype": "text/x-python",
   "name": "python",
   "nbconvert_exporter": "python",
   "pygments_lexer": "ipython3",
   "version": "3.7.1"
  }
 },
 "nbformat": 4,
 "nbformat_minor": 2
}
