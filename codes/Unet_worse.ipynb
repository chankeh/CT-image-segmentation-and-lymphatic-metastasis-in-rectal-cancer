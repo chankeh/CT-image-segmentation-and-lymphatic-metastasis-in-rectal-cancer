{
 "cells": [
  {
   "cell_type": "code",
   "execution_count": null,
   "metadata": {},
   "outputs": [],
   "source": [
    "import SimpleITK as sitk\n",
    "import skimage.io as io\n",
    "import numpy as np\n",
    "import matplotlib.pyplot as plt\n",
    "import matplotlib.image as mping\n",
    "import os\n",
    "from PIL import Image\n",
    "import tensorflow as tf\n",
    "import keras\n",
    "from keras import backend as k\n",
    "from keras.datasets import mnist\n",
    "from keras.models import Sequential,Model\n",
    "from keras.layers import Conv2D,MaxPooling2D,Dropout,Flatten,Dense,Input,UpSampling2D,concatenate,core\n",
    "from skimage import morphology\n",
    "from skimage import measure\n",
    "from sklearn.cluster import KMeans\n",
    "from skimage.transform import resize\n",
    "import random"
   ]
  },
  {
   "cell_type": "code",
   "execution_count": null,
   "metadata": {},
   "outputs": [],
   "source": [
    "def get_subdirectory(path):\n",
    "    dirList = []\n",
    "    files = os.listdir(path)\n",
    "    for f in files:\n",
    "        if(os.path.isdir(path + '/' + f)):\n",
    "            if(f[0] == '.'):\n",
    "                pass #排除隐藏文件夹\n",
    "            else:\n",
    "                dirList.append(path+ '/' + f)\n",
    "    return dirList\n",
    "\n",
    "def get_ap(path):\n",
    "    img_pathList = []\n",
    "    name = 'arterial phase'\n",
    "    subpath = get_subdirectory(path)\n",
    "    pathnumber = len(subpath)\n",
    "    for i in range(pathnumber):\n",
    "        img_pathList.append(subpath[i] + '/' + name)\n",
    "    return img_pathList\n",
    "\n",
    "def get_image(path):\n",
    "    return [os.path.join(path,f) for f in os.listdir(path) if f.endswith('.png')]\n",
    "\n",
    "#读取当前文件夹下的所有DICOM文件，并以数组形式存储在image_array中，\n",
    "def Xyread(path):\n",
    "    reader = sitk.ImageSeriesReader()\n",
    "    dicom_names = reader.GetGDCMSeriesFileNames(path)\n",
    "    reader.SetFileNames(dicom_names)\n",
    "    image = reader.Execute()\n",
    "    image_array = sitk.GetArrayFromImage(image)\n",
    "    X = image_array\n",
    "    mean = np.mean(X)\n",
    "    std = np.std(X)\n",
    "    X = X-mean\n",
    "    X = X/std\n",
    "    Xshape = X.shape\n",
    "    \n",
    "    c = get_image(path)\n",
    "    d = len(c)\n",
    "    \n",
    "    mask = np.empty((d,512,512))\n",
    "    i = 0\n",
    "    while(d>0):\n",
    "        img = Image.open(c[d-1])\n",
    "        img_ndarray = np.asarray(img)/255\n",
    "        mask[i] = img_ndarray\n",
    "        d = d-1\n",
    "        i = i+1\n",
    "    return X,mask\n",
    "\n",
    "path = r\"./dataset\"\n",
    "path_total= get_ap(path)\n"
   ]
  },
  {
   "cell_type": "code",
   "execution_count": null,
   "metadata": {},
   "outputs": [],
   "source": [
    "def improcess(X,y,patchsize,patchnum):\n",
    "    s = patchsize\n",
    "    index1 = 200\n",
    "    index2 = 450\n",
    "    index3 = 150\n",
    "    index4 = 400\n",
    "    len = X.shape[0]*patchnum\n",
    "    X_train = np.zeros([len,s,s])\n",
    "    y_train = np.zeros([len,s,s])\n",
    "    ncol = X[0].shape[1]\n",
    "    for i in range(0,X.shape[0]):\n",
    "        X_slice = X[i]\n",
    "        y_slice = y[i]\n",
    "        #choosing \n",
    "        indexrow = np.random.randint( int(index1+s/2)+1 , int(index2-s/2)-1, size = patchnum ) \n",
    "        indexcol = np.random.randint( int(index3+s/2)+1 , int(index4-s/2)-1 , size = patchnum )\n",
    "        for j in range(0,patchnum):\n",
    "            X_train[j+i*patchnum,:,:]=X_slice[int(indexrow[j]-s/2):int(indexrow[j]+s/2),int(indexcol[j]-s/2):int(indexcol[j]+s/2)]\n",
    "            y_train[j+i*patchnum,:,:] = y_slice[int(indexrow[j]-s/2):int(indexrow[j]+s/2),int(indexcol[j]-s/2):int(indexcol[j]+s/2)]\n",
    "    \n",
    "    return index1,index2,X_train,y_train"
   ]
  },
  {
   "cell_type": "code",
   "execution_count": null,
   "metadata": {},
   "outputs": [],
   "source": [
    "def get_unet(n_ch,patch_height,patch_width):\n",
    "    inputs = Input(shape=(patch_height,patch_width,n_ch))\n",
    "    conv1 = Conv2D(32, (3, 3), activation='relu', padding='same')(inputs)\n",
    "    conv1 = Dropout(0.2)(conv1)\n",
    "    conv1 = Conv2D(32, (3, 3), activation='relu', padding='same')(conv1)\n",
    "    pool1 = MaxPooling2D((2, 2))(conv1)\n",
    "    #\n",
    "    conv2 = Conv2D(64, (3, 3), activation='relu', padding='same')(pool1)\n",
    "    conv2 = Dropout(0.2)(conv2)\n",
    "    conv2 = Conv2D(64, (3, 3), activation='relu', padding='same')(conv2)\n",
    "    pool2 = MaxPooling2D((2, 2))(conv2)\n",
    "    #\n",
    "    conv3 = Conv2D(128, (3, 3), activation='relu', padding='same')(pool2)\n",
    "    conv3 = Dropout(0.2)(conv3)\n",
    "    conv3 = Conv2D(128, (3, 3), activation='relu', padding='same')(conv3)\n",
    "\n",
    "    up1 = UpSampling2D(size=(2, 2))(conv3)\n",
    "    up1 = concatenate([conv2,up1],axis=3)\n",
    "    conv4 = Conv2D(64, (3, 3), activation='relu', padding='same')(up1)\n",
    "    conv4 = Dropout(0.2)(conv4)\n",
    "    conv4 = Conv2D(64, (3, 3), activation='relu', padding='same')(conv4)\n",
    "    #\n",
    "    up2 = UpSampling2D(size=(2, 2))(conv4)\n",
    "    up2 = concatenate([conv1,up2], axis=3)\n",
    "    conv5 = Conv2D(32, (3, 3), activation='relu', padding='same')(up2)\n",
    "    conv5 = Dropout(0.2)(conv5)\n",
    "    conv5 = Conv2D(32, (3, 3), activation='relu', padding='same')(conv5)\n",
    "    #  注意，写成这种结构，并且用的loss为categorical_crossentropy，\n",
    "    # 需要对groundtruth数据进行处理，见后面help_function.py里的mask_Unet\n",
    "    conv6 = Conv2D(2, (1, 1), activation='relu',padding='same')(conv5)\n",
    "    conv6 = core.Reshape((2,patch_height*patch_width))(conv6)\n",
    "    conv6 = core.Permute((2,1))(conv6)\n",
    "    ############\n",
    "    conv7 = core.Activation('softmax')(conv6)\n",
    "\n",
    "    model = Model(inputs=inputs, outputs=conv7)\n",
    "\n",
    "    # sgd = SGD(lr=0.01, decay=1e-6, momentum=0.3, nesterov=False)\n",
    "    model.compile(optimizer='sgd', loss='categorical_crossentropy',metrics=['accuracy'])\n",
    "\n",
    "    return model"
   ]
  },
  {
   "cell_type": "code",
   "execution_count": null,
   "metadata": {},
   "outputs": [],
   "source": [
    "def masks_Unet(masks):\n",
    "    assert (len(masks.shape)==4)  #4D arrays\n",
    "    assert (masks.shape[3]==1 )  #check the channel is 1\n",
    "    im_h = masks.shape[1]\n",
    "    im_w = masks.shape[2]\n",
    "    masks = np.reshape(masks,(masks.shape[0],im_h*im_w))\n",
    "    new_masks = np.empty((masks.shape[0],im_h*im_w,2))\n",
    "    for i in range(masks.shape[0]):\n",
    "        for j in range(im_h*im_w):\n",
    "            if  masks[i,j] == 0:\n",
    "                new_masks[i,j,0]=1\n",
    "                new_masks[i,j,1]=0\n",
    "            else:\n",
    "                new_masks[i,j,0]=0\n",
    "                new_masks[i,j,1]=1\n",
    "    return new_masks"
   ]
  },
  {
   "cell_type": "code",
   "execution_count": null,
   "metadata": {},
   "outputs": [],
   "source": [
    "X,mask = Xyread(path_total[0])\n",
    "for i in range(1,100):\n",
    "    X_temp,mask_temp = Xyread(path_total[i])\n",
    "    X = np.append(X,X_temp,axis = 0)\n",
    "    mask = np.append(mask,mask_temp,axis = 0)\n",
    "    \n",
    "X_predict_array,mask = Xyread(path_total[100])\n",
    "for j in range(101,107):\n",
    "    X_temp1,mask_temp1 = Xyread(path_total[j])\n",
    "    X_predict_array = np.append(X_predict_array,X_temp1,axis=0)"
   ]
  },
  {
   "cell_type": "code",
   "execution_count": null,
   "metadata": {},
   "outputs": [],
   "source": [
    "X = np.load(\"C:/Users/cassi/Desktop/CT_withtumor_input.npy\")\n",
    "mask = np.load(\"C:/Users/cassi/Desktop/mask_withtumor_input.npy\")"
   ]
  },
  {
   "cell_type": "code",
   "execution_count": null,
   "metadata": {},
   "outputs": [],
   "source": [
    "seed = 1\n",
    "index1,index2,X_train,y_train = improcess(X,mask,48,100)\n",
    "img_rows = X_train.shape[1]\n",
    "img_cols = X_train.shape[2]\n",
    "X_train = X_train.reshape(X_train.shape[0], img_rows,img_cols,1)\n",
    "y_train = y_train.reshape(y_train.shape[0],img_rows,img_cols,1)\n",
    "#y_train = masks_Unet(y_train)"
   ]
  },
  {
   "cell_type": "code",
   "execution_count": null,
   "metadata": {},
   "outputs": [],
   "source": [
    "np.unique(np.where(y_train == 1)[0]).shape"
   ]
  },
  {
   "cell_type": "code",
   "execution_count": null,
   "metadata": {},
   "outputs": [],
   "source": [
    "y_train.shape[0]"
   ]
  },
  {
   "cell_type": "code",
   "execution_count": null,
   "metadata": {},
   "outputs": [],
   "source": [
    "y_train_1 = masks_Unet(y_train)"
   ]
  },
  {
   "cell_type": "code",
   "execution_count": null,
   "metadata": {},
   "outputs": [],
   "source": [
    "np.unique(np.where(y_train_1 == 1)[0])"
   ]
  },
  {
   "cell_type": "code",
   "execution_count": null,
   "metadata": {},
   "outputs": [],
   "source": [
    "y_train_1 = y_train_1[:,:,1].reshape(y_train.shape[0],img_rows,img_cols,1)"
   ]
  },
  {
   "cell_type": "code",
   "execution_count": null,
   "metadata": {},
   "outputs": [],
   "source": [
    "plt.figure()\n",
    "plt.subplot(1,2,1)\n",
    "plt.imshow(X_train[330,:,:,0])\n",
    "plt.subplot(1,2,2)\n",
    "plt.imshow(y_train_1[330,:,:,0])\n",
    "plt.show()"
   ]
  },
  {
   "cell_type": "code",
   "execution_count": null,
   "metadata": {},
   "outputs": [],
   "source": [
    "n_ch = X_train.shape[3]#number of chanels\n",
    "patch_height = X_train.shape[1]\n",
    "patch_width = X_train.shape[2]\n",
    "model = get_unet(n_ch, patch_height, patch_width)  #the U-net model\n",
    "print(\"Check: final output of the network:\")\n",
    "print(model.output_shape)"
   ]
  },
  {
   "cell_type": "code",
   "execution_count": null,
   "metadata": {},
   "outputs": [],
   "source": [
    "N_epochs = 36\n",
    "batch_size = 64\n",
    "\n",
    "model.fit(X_train, y_train, epochs=N_epochs, batch_size=batch_size, verbose=1, shuffle=True, validation_split=0.1)"
   ]
  },
  {
   "cell_type": "code",
   "execution_count": null,
   "metadata": {},
   "outputs": [],
   "source": [
    "n_test = X_predict_array.shape[0]\n",
    "X_predict = np.zeros([100*n_test,48,48,1])\n",
    "for k in range(n_test):\n",
    "    index = 0\n",
    "    for i in range(10):\n",
    "        for j in range(10):\n",
    "            X_predict[k+index,:,:,0] = X_predict_array[k,32+i*48:80+i*48,32+j*48:80+j*48]\n",
    "            index = index + 1\n",
    "            \n",
    "mask_predict = model.predict(X_predict,verbose = 1)\n",
    "mask_show = mask_predict[:,:,0]\n",
    "mask_show = mask_show.reshape(n_test,480,480)\n"
   ]
  },
  {
   "cell_type": "code",
   "execution_count": null,
   "metadata": {},
   "outputs": [],
   "source": [
    "model.predict(X_predict[4].reshape(1,48,48,1),verbose = 1)"
   ]
  },
  {
   "cell_type": "code",
   "execution_count": null,
   "metadata": {},
   "outputs": [],
   "source": [
    "mask_show = np.zeros((18200,2304))\n",
    "mask_show[predict_index] = 1\n",
    "mask_show = mask_show.reshape(n_test,480,480)"
   ]
  },
  {
   "cell_type": "code",
   "execution_count": null,
   "metadata": {},
   "outputs": [],
   "source": [
    "np.where(mask_show == 1)"
   ]
  },
  {
   "cell_type": "code",
   "execution_count": null,
   "metadata": {},
   "outputs": [],
   "source": [
    "model.save(\"C:/Users/cassi/Desktop/Unet_maskonly.h5\")"
   ]
  },
  {
   "cell_type": "code",
   "execution_count": null,
   "metadata": {},
   "outputs": [],
   "source": [
    "X_predict_array = np.load(\"C:/Users/cassi/Desktop/CT_test.npy\")\n",
    "y_predict_array = np.load(\"C:/Users/cassi/Desktop/mask_test.npy\")"
   ]
  },
  {
   "cell_type": "code",
   "execution_count": null,
   "metadata": {},
   "outputs": [],
   "source": [
    "plt.imshow(mask_show[2],'gray')\n",
    "plt.show()"
   ]
  },
  {
   "cell_type": "code",
   "execution_count": null,
   "metadata": {},
   "outputs": [],
   "source": []
  }
 ],
 "metadata": {
  "kernelspec": {
   "display_name": "Python 3",
   "language": "python",
   "name": "python3"
  },
  "language_info": {
   "codemirror_mode": {
    "name": "ipython",
    "version": 3
   },
   "file_extension": ".py",
   "mimetype": "text/x-python",
   "name": "python",
   "nbconvert_exporter": "python",
   "pygments_lexer": "ipython3",
   "version": "3.7.1"
  }
 },
 "nbformat": 4,
 "nbformat_minor": 2
}
