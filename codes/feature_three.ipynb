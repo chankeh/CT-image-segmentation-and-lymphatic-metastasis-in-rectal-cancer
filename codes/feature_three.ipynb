{
 "cells": [
  {
   "cell_type": "code",
   "execution_count": 49,
   "metadata": {
    "collapsed": true
   },
   "outputs": [],
   "source": [
    "import pywt #导入PyWavelets\n",
    "import numpy as np"
   ]
  },
  {
   "cell_type": "code",
   "execution_count": null,
   "metadata": {},
   "outputs": [],
   "source": [
    "index_patient = np.load(\"index_patient.npy\")\n",
    "img_tumor = np.load(\"C:/Users/Ye Xiaoqing/Desktop/TD/CT_tumoronly.npy\")"
   ]
  },
  {
   "cell_type": "code",
   "execution_count": 50,
   "metadata": {
    "collapsed": true
   },
   "outputs": [],
   "source": [
    "def feature_wave(img_tumor, index_patient):\n",
    "    from sklearn import decomposition\n",
    "    import pywt\n",
    "    clas = 20#len(np.unique(index_patient))\n",
    "    print(clas)\n",
    "    \n",
    "    ones_num = np.zeros([clas])\n",
    "    for k in range(clas):\n",
    "        ones_num[k] = len(np.where(index_patient == k+1)[0])\n",
    "    \n",
    "    index_begin, index_end = 0, 0\n",
    "    F = np.zeros([clas, 20])\n",
    "    \n",
    "    for i in range(clas):\n",
    "        onm_temp = int(ones_num[i, ])\n",
    "        index_begin = index_end\n",
    "        index_end = index_begin + onm_temp\n",
    "        img_one = img_tumor[index_begin:index_end,:,:]\n",
    "        \n",
    "        f = np.array([])\n",
    "        for j in range(onm_temp):\n",
    "            signal = img_one[j:j+1,:,:]\n",
    "            coeffs = pywt.wavedec(signal, 'bior3.7', level = 5)\n",
    "            f1 = coeffs[0].ravel()\n",
    "            f2 = coeffs[1].ravel()\n",
    "            f3 = coeffs[2].ravel()\n",
    "            f4 = coeffs[3].ravel()\n",
    "            f = np.concatenate((f,f1,f2,f3,f4))\n",
    "        \n",
    "        points = len(f)\n",
    "        print(points)\n",
    "        rubb = points % 10\n",
    "        column = points // 10\n",
    "        \n",
    "        f_pca = f[0 : points - rubb]\n",
    "        \n",
    "        f_ppca = f_pca.reshape(10, column)\n",
    "        pca = decomposition.PCA(n_components=2)\n",
    "        f_one = pca.fit_transform(f_ppca).ravel()\n",
    "    \n",
    "    F[i:i+1,:] = f_one\n",
    "    \n",
    "    return F\n",
    "    "
   ]
  },
  {
   "cell_type": "code",
   "execution_count": 46,
   "metadata": {
    "collapsed": true
   },
   "outputs": [],
   "source": [
    "feature_wave = feature_wave(img_tumor, index_patient)"
   ]
  },
  {
   "cell_type": "code",
   "execution_count": 47,
   "metadata": {
    "collapsed": true
   },
   "outputs": [],
   "source": [
    "feature_three = feature_wave"
   ]
  },
  {
   "cell_type": "code",
   "execution_count": 48,
   "metadata": {
    "collapsed": true
   },
   "outputs": [],
   "source": [
    "np.save(\"C:/Users/Ye Xiaoqing/Desktop/TD/feature_three.npy\",feature_three)"
   ]
  },
  {
   "cell_type": "code",
   "execution_count": null,
   "metadata": {
    "collapsed": true
   },
   "outputs": [],
   "source": [
    "#####################################testing feature_three"
   ]
  },
  {
   "cell_type": "code",
   "execution_count": 52,
   "metadata": {},
   "outputs": [],
   "source": [
    "index_patient = np.load(\"C:/Users/Ye Xiaoqing/Desktop/B/model_2_data/index_patient.npy\")\n",
    "index_can = np.load(\"C:/Users/Ye Xiaoqing/Desktop/B/model_2_data/index_can.npy\")\n",
    "mask_tumor = np.load(\"C:/Users/Ye Xiaoqing/Desktop/B/model_2_data/tumor_only.npy\")\n",
    "path_total = np.load(\"C:/Users/Ye Xiaoqing/Desktop/B/model_2_data/path_total.npy\")"
   ]
  },
  {
   "cell_type": "code",
   "execution_count": 57,
   "metadata": {},
   "outputs": [],
   "source": [
    "tumor_only = np.load(\"C:/Users/Ye Xiaoqing/Desktop/B/model_2_data/tumor_only.npy\")\n",
    "index_patient = np.load(\"C:/Users/Ye Xiaoqing/Desktop/B/model_2_data/index_patient.npy\")"
   ]
  },
  {
   "cell_type": "code",
   "execution_count": 58,
   "metadata": {},
   "outputs": [
    {
     "name": "stdout",
     "output_type": "stream",
     "text": [
      "20\n",
      "468480\n",
      "1592832\n",
      "1686528\n",
      "1311744\n",
      "1686528\n",
      "843264\n",
      "1124352\n",
      "936960\n",
      "1592832\n",
      "1873920\n",
      "1030656\n",
      "2155008\n",
      "936960\n",
      "1311744\n",
      "1124352\n",
      "1499136\n",
      "1499136\n",
      "281088\n",
      "749568\n",
      "281088\n"
     ]
    }
   ],
   "source": [
    "f3_model1 = feature_wave(tumor_only, index_patient)"
   ]
  },
  {
   "cell_type": "code",
   "execution_count": 59,
   "metadata": {},
   "outputs": [],
   "source": [
    "np.save(\"C:/Users/Ye Xiaoqing/Desktop/B/model_2_data/f3_model2\", f3_model1)"
   ]
  },
  {
   "cell_type": "code",
   "execution_count": 60,
   "metadata": {},
   "outputs": [
    {
     "data": {
      "text/plain": [
       "(20, 20)"
      ]
     },
     "execution_count": 60,
     "metadata": {},
     "output_type": "execute_result"
    }
   ],
   "source": [
    "f3_model1.shape"
   ]
  },
  {
   "cell_type": "code",
   "execution_count": null,
   "metadata": {
    "collapsed": true
   },
   "outputs": [],
   "source": []
  }
 ],
 "metadata": {
  "kernelspec": {
   "display_name": "Python 3",
   "language": "python",
   "name": "python3"
  },
  "language_info": {
   "codemirror_mode": {
    "name": "ipython",
    "version": 3
   },
   "file_extension": ".py",
   "mimetype": "text/x-python",
   "name": "python",
   "nbconvert_exporter": "python",
   "pygments_lexer": "ipython3",
   "version": "3.6.2"
  }
 },
 "nbformat": 4,
 "nbformat_minor": 2
}
