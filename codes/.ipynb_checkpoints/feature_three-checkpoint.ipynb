{
 "cells": [
  {
   "cell_type": "code",
   "execution_count": 1,
   "metadata": {
    "collapsed": true
   },
   "outputs": [],
   "source": [
    "import pywt #导入PyWavelets\n",
    "import numpy as np"
   ]
  },
  {
   "cell_type": "code",
   "execution_count": 5,
   "metadata": {
    "collapsed": true
   },
   "outputs": [],
   "source": [
    "index_patient = np.load(\"index_patient.npy\")\n",
    "img_tumor = np.load(\"C:/Users/Ye Xiaoqing/Desktop/TD/CT_tumoronly.npy\")"
   ]
  },
  {
   "cell_type": "code",
   "execution_count": 45,
   "metadata": {
    "collapsed": true
   },
   "outputs": [],
   "source": [
    "def feature_wave(img_tumor, index_patient):\n",
    "    from sklearn import decomposition\n",
    "    import pywt\n",
    "    clas = len(np.unique(index_patient))\n",
    "    \n",
    "    ones_num = np.zeros([clas])\n",
    "    for k in range(clas):\n",
    "        ones_num[k] = len(np.where(index_patient == k+1)[0])\n",
    "    \n",
    "    index_begin, index_end = 0, 0\n",
    "    F = np.zeros([clas, 20])\n",
    "    \n",
    "    for i in range(clas):\n",
    "        onm_temp = int(ones_num[i, ])\n",
    "        index_begin = index_end\n",
    "        index_end = index_begin + onm_temp\n",
    "        img_one = img_tumor[index_begin:index_end,:,:]\n",
    "        \n",
    "        f = np.array([])\n",
    "        for j in range(onm_temp):\n",
    "            signal = img_one[j:j+1,:,:]\n",
    "            coeffs = pywt.wavedec(signal, 'bior3.7', level = 3)\n",
    "            f1 = coeffs[0].ravel()\n",
    "            f2 = coeffs[1].ravel()\n",
    "            f3 = coeffs[2].ravel()\n",
    "            f4 = coeffs[3].ravel()\n",
    "            f = np.concatenate((f,f1,f2,f3,f4))\n",
    "        \n",
    "        points = len(f)\n",
    "        rubb = points % 10\n",
    "        column = points // 10\n",
    "        \n",
    "        f_pca = f[0 : points - rubb]\n",
    "        \n",
    "        f_ppca = f_pca.reshape(10, column)\n",
    "        pca = decomposition.PCA(n_components=2)\n",
    "        f_one = pca.fit_transform(f_ppca).ravel()\n",
    "    \n",
    "    F[i:i+1,:] = f_one\n",
    "    \n",
    "    return F\n",
    "    "
   ]
  },
  {
   "cell_type": "code",
   "execution_count": 46,
   "metadata": {
    "collapsed": true
   },
   "outputs": [],
   "source": [
    "feature_wave = feature_wave(img_tumor, index_patient)"
   ]
  },
  {
   "cell_type": "code",
   "execution_count": 47,
   "metadata": {
    "collapsed": true
   },
   "outputs": [],
   "source": [
    "feature_three = feature_wave"
   ]
  },
  {
   "cell_type": "code",
   "execution_count": 48,
   "metadata": {
    "collapsed": true
   },
   "outputs": [],
   "source": [
    "np.save(\"C:/Users/Ye Xiaoqing/Desktop/TD/feature_three.npy\",feature_three)"
   ]
  }
 ],
 "metadata": {
  "kernelspec": {
   "display_name": "Python 3",
   "language": "python",
   "name": "python3"
  },
  "language_info": {
   "codemirror_mode": {
    "name": "ipython",
    "version": 3
   },
   "file_extension": ".py",
   "mimetype": "text/x-python",
   "name": "python",
   "nbconvert_exporter": "python",
   "pygments_lexer": "ipython3",
   "version": "3.6.2"
  }
 },
 "nbformat": 4,
 "nbformat_minor": 2
}
