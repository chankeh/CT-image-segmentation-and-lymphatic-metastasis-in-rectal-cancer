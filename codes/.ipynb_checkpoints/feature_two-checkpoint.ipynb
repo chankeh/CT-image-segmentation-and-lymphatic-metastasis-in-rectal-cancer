{
 "cells": [
  {
   "cell_type": "code",
   "execution_count": 1,
   "metadata": {
    "collapsed": true
   },
   "outputs": [],
   "source": [
    "from sklearn.decomposition import PCA\n",
    "import numpy as np\n",
    "import matplotlib.pyplot as plt"
   ]
  },
  {
   "cell_type": "code",
   "execution_count": 2,
   "metadata": {
    "collapsed": true
   },
   "outputs": [],
   "source": [
    "import cv2\n",
    "import math\n",
    "\n",
    "#求灰度共生矩阵\n",
    "def getGlcm(input, d_x = 0, d_y = 1, gray_level = 16):\n",
    "    srcdata=input.copy()\n",
    "    ret = np.zeros([1,gray_level, gray_level])\n",
    "    (height,width) = input.shape[1], input.shape[2]\n",
    "    \n",
    "    max_gray_level = input.max()\n",
    "    \n",
    "    #若灰度级数大于gray_level，则将图像的灰度级缩小至gray_level，减小灰度共生矩阵的大小\n",
    "    if max_gray_level > gray_level:\n",
    "        for j in range(height):\n",
    "            for i in range(width):\n",
    "                srcdata[:,j:j+1,i:i+1] = int(srcdata[:,j:j+1,i:i+1])*gray_level / max_gray_level\n",
    "\n",
    "    for j in range(height - d_y):\n",
    "        for i in range(width - d_x):\n",
    "            rows = int(srcdata[:,j:j+1,i:i+1])\n",
    "            cols = int(srcdata[:,j + d_y: j + d_y + 1, i + d_x : i + d_x + 1])\n",
    "            ret[:, rows: rows + 1, cols : cols+1] = ret[:,rows:rows+1,cols:cols+1] + 1\n",
    "\n",
    "    for i in range(gray_level):\n",
    "        for j in range(gray_level):\n",
    "            ret[:, i : i+1, j: j+1]/=float(height * width)\n",
    "\n",
    "    return ret\n",
    "\n",
    "#每一张图的灰度共生矩阵对应的特征（输出为4个值）\n",
    "def feature_extract(p,gray_level = 16):\n",
    "    Con = 0.0\n",
    "    Eng = 0.0\n",
    "    Asm = 0.0\n",
    "    Idm = 0.0\n",
    "    for i in range(gray_level):\n",
    "        for j in range(gray_level):\n",
    "            Con += (i - j) * (i - j) * p[:, i : i+1, j : j+1]\n",
    "            Asm += p[:, i : i+1, j : j+1] * p[:, i : i+1, j : j+1]\n",
    "            Idm += p[:, i : i+1, j : j+1] / (1 + (i - j) * (i - j))\n",
    "            if p[ : , i : i+1, j : j+1] > 0:\n",
    "                Eng = Eng + p[:, i : i+1, j : j+1] * math.log(p[:, i : i+1, j : j+1])\n",
    "                \n",
    "    return Asm, Con, -Eng, Idm\n",
    "\n",
    "def getGlcm_whl(img, patchsize = np.array([16,16])):\n",
    "    p_1 = patchsize[0]\n",
    "    p_2 = patchsize[1]\n",
    "    if len(img.shape) != 3:\n",
    "        print(\"The img must be a tuple \")\n",
    "    else:\n",
    "        is_1 = img.shape[1]\n",
    "        is_2 = img.shape[2]\n",
    "        if (is_1 % p_1 != 0) or (is_2 % p_2 != 0):\n",
    "            print(\"The number of rows and cols must be multiple of patchsize\")\n",
    "        else:\n",
    "            row_num = int(is_1 / p_1)\n",
    "            col_num = int(is_2 / p_2)\n",
    "            ASM = np.zeros([row_num, col_num])\n",
    "            CON = np.zeros([row_num, col_num])\n",
    "            ENG = np.zeros([row_num, col_num])\n",
    "            IDM = np.zeros([row_num, col_num])\n",
    "            for t in range(row_num):\n",
    "                for k in range(col_num):\n",
    "                    img_pt = img[:, t * p_1 : (t + 1) * p_1, k * p_2 : (k + 1) * p_2]\n",
    "                    img_glcm = getGlcm(img_pt)\n",
    "                    img_ft = feature_extract(img_glcm)\n",
    "                    img_ft = np.asarray(img_ft)\n",
    "                    ASM[t : t + 1, k : k + 1] = img_ft[0]\n",
    "                    CON[t : t + 1, k : k + 1] = img_ft[1]\n",
    "                    ENG[t : t + 1, k : k + 1] = img_ft[2]\n",
    "                    IDM[t : t + 1, k : k + 1] = img_ft[3]\n",
    "    return ASM.flatten(), CON.flatten(), ENG.flatten(), IDM.flatten()"
   ]
  },
  {
   "cell_type": "code",
   "execution_count": 8,
   "metadata": {
    "collapsed": true
   },
   "outputs": [],
   "source": [
    "X_tumor = np.load(\"CT_tumoronly.npy\")\n",
    "patient_location = np.load(\"patient_location.npy\")\n",
    "number_patient = patient_location.shape[0]-1"
   ]
  },
  {
   "cell_type": "code",
   "execution_count": 66,
   "metadata": {
    "collapsed": true
   },
   "outputs": [],
   "source": [
    "#data patient_location.shape:(108,1)\n",
    "def Glcm_PCA(X,number_patient,patient_location,patchsize = np.array([16,16]),dim = 1):\n",
    "    pca = PCA(n_components = dim)\n",
    "    result = np.zeros([number_patient,16])\n",
    "    for i in range(number_patient):\n",
    "        lenth = patient_location[i+1]-patient_location[i]\n",
    "        gray_matrix = np.empty([4,lenth*1024])\n",
    "        for j in range(lenth):\n",
    "            gray_matrix[0,j*1024:j*1024+1024],gray_matrix[1,j*1024:j*1024+1024],gray_matrix[2,j*1024:j*1024+1024],gray_matrix[3,j*1024:(j+1)*1024] = getGlcm_whl(X[patient_location[i]+j].reshape(1,256,256))\n",
    "        gray_matrix = gray_matrix.reshape(16,256*lenth)\n",
    "        gray_matrix_new=pca.fit_transform(gray_matrix)\n",
    "        result[i,:] = gray_matrix_new.flatten()\n",
    "    return result\n",
    "            \n",
    "        "
   ]
  },
  {
   "cell_type": "code",
   "execution_count": null,
   "metadata": {
    "collapsed": true
   },
   "outputs": [],
   "source": [
    "result = Glcm_PCA(X_input,number_patient,patient_location)"
   ]
  },
  {
   "cell_type": "code",
   "execution_count": 71,
   "metadata": {
    "collapsed": true
   },
   "outputs": [],
   "source": [
    "np.save(\"feature_two.npy\",result)"
   ]
  }
 ],
 "metadata": {
  "kernelspec": {
   "display_name": "Python 3",
   "language": "python",
   "name": "python3"
  },
  "language_info": {
   "codemirror_mode": {
    "name": "ipython",
    "version": 3
   },
   "file_extension": ".py",
   "mimetype": "text/x-python",
   "name": "python",
   "nbconvert_exporter": "python",
   "pygments_lexer": "ipython3",
   "version": "3.6.2"
  }
 },
 "nbformat": 4,
 "nbformat_minor": 2
}
